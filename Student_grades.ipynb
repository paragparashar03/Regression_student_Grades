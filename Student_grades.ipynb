{
 "cells": [
  {
   "cell_type": "code",
   "execution_count": 12,
   "metadata": {},
   "outputs": [],
   "source": [
    "import numpy as np\n",
    "import pandas as pd\n",
    "from sklearn import linear_model\n",
    "import sklearn\n",
    "from sklearn.utils import shuffle\n",
    "import matplotlib.pyplot as plt\n",
    "from matplotlib import style\n",
    "import pickle"
   ]
  },
  {
   "cell_type": "code",
   "execution_count": 2,
   "metadata": {},
   "outputs": [
    {
     "name": "stdout",
     "output_type": "stream",
     "text": [
      "   G1  G2  G3  studytime  health  famrel  goout  Walc  freetime  Dalc  \\\n",
      "0   5   6   6          2       3       4      4     1         3     1   \n",
      "1   5   5   6          2       3       5      3     1         3     1   \n",
      "2   7   8  10          2       3       4      2     3         3     2   \n",
      "3  15  14  15          3       5       3      2     1         2     1   \n",
      "4   6  10  10          2       5       4      2     2         3     1   \n",
      "\n",
      "   failures  absences  \n",
      "0         0         6  \n",
      "1         0         4  \n",
      "2         3        10  \n",
      "3         0         2  \n",
      "4         0         4  \n"
     ]
    }
   ],
   "source": [
    "#data processing\n",
    "# data arrangement\n",
    "\n",
    "data = pd.read_csv(\"student-mat.csv\", sep=\";\")\n",
    "\n",
    "data = data[[\"G1\", \"G2\", \"G3\", \"studytime\",\"health\", \"famrel\", \"goout\",\"Walc\",\"freetime\", \"Dalc\",\"failures\", \"absences\"]]\n",
    "\n",
    "print(data.head())\n",
    "\n",
    "predict = \"G3\"\n",
    "\n",
    "X = np.array(data.drop([predict], 1))\n",
    "y = np.array(data[predict])\n"
   ]
  },
  {
   "cell_type": "code",
   "execution_count": 24,
   "metadata": {},
   "outputs": [
    {
     "name": "stdout",
     "output_type": "stream",
     "text": [
      "Accuracy: 0.6855483923062077\n",
      "Accuracy: 0.8986382571708371\n",
      "Accuracy: 0.8297724865299968\n",
      "Accuracy: 0.8876103980592035\n",
      "Accuracy: 0.8579662263009014\n",
      "Accuracy: 0.7559162871199563\n",
      "Accuracy: 0.8301611941807419\n",
      "Accuracy: 0.8680666223372817\n",
      "Accuracy: 0.9088404448298453\n",
      "Accuracy: 0.8778392189924988\n",
      "Accuracy: 0.7392660791352326\n",
      "Accuracy: 0.5872390474136162\n",
      "Accuracy: 0.7995710498486752\n",
      "Accuracy: 0.8195268977355727\n",
      "Accuracy: 0.841892464248795\n",
      "Accuracy: 0.7642355447811102\n",
      "Accuracy: 0.919636364979388\n",
      "Accuracy: 0.8948013695837764\n",
      "Accuracy: 0.8574797002954289\n",
      "Accuracy: 0.8763779943661488\n",
      "-------------------------\n",
      "Coefficient: \n",
      " [ 0.14927539  0.99185649 -0.19809331  0.0633174   0.291755   -0.00426179\n",
      "  0.12718376  0.06509226 -0.13192704 -0.22003886  0.03885366]\n",
      "Intercept: \n",
      " -3.257224064146797\n",
      "-------------------------\n",
      "4.240909033776138 [6 0 1 3 5 5 1 4 1 0 0] 0\n",
      "15.609015599276898 [16 17  3  4  4  3  1  4  1  0  0] 17\n",
      "10.531041038576342 [7 5 3 5 5 2 2 4 1 1 0] 0\n",
      "10.066312751669615 [10  9  3  5  4  2  1  3  1  0  2] 8\n",
      "4.855085332949832 [11 11  2  5  5  3  1  3  1  0  4] 11\n",
      "14.173609423929122 [13 13  4  3  1  3  5  3  5  0  4] 12\n",
      "9.334485708034153 [ 9 10  3  5  4  4  1  3  1  0  9] 9\n",
      "10.082900829823473 [14 15  2  5  4  2  1  3  1  0  0] 15\n",
      "13.593563873259612 [11 11  1  4  4  1  1  2  1  0  0] 12\n",
      "4.796356564261842 [15 15  2  5  5  4  2  4  1  0  2] 16\n",
      "12.073248132217287 [6 7 2 4 5 5 1 1 1 0 0] 0\n",
      "12.827029968070985 [11 11  4  3  5  3  3  2  1  0  0] 11\n",
      "12.90516334082691 [13 11  2  5  4  4  3  4  1  0  0] 10\n",
      "9.80191357000948 [4 0 1 5 4 2 1 3 1 2 0] 0\n",
      "9.55874085192397 [8 7 1 3 4 3 3 3 2 1 7] 8\n",
      "-1.1760688841310878 [12 12  2  5  5  3  1  4  1  1 12] 13\n",
      "8.92396276980222 [ 7 10  2  1  5  2  1  3  1  0  0] 11\n",
      "12.528289221539055 [14 12  1  5  4  3  3  4  1  0  4] 11\n",
      "7.304564419164844 [12 12  2  4  4  4  3  3  2  0 12] 11\n",
      "13.986001345014888 [10 11  2  4  2  4  3  4  2  0  6] 11\n",
      "8.411049527437264 [10 10  2  1  4  3  1  3  1  0  2] 10\n",
      "7.75539720764948 [5 0 1 4 4 4 1 5 1 3 0] 0\n",
      "13.232962406533264 [ 8 10  2  4  5  2  1  3  1  0  4] 10\n",
      "9.43676004410807 [ 6  7  2  5  4  4  4  4  2  1 15] 8\n",
      "5.6217607261578415 [14 13  4  3  4  3  1  3  1  0  0] 14\n",
      "19.02657160989097 [16 15  2  1  3  3  2  2  1  0  2] 15\n",
      "16.49457775664976 [ 8 10  1  5  3  3  3  1  1  0  4] 10\n",
      "9.354276100827098 [11 15  1  4  3  3  1  3  1  0  2] 15\n",
      "7.086915409153949 [11 11  3  5  4  4  5  3  2  0  0] 10\n",
      "9.367862730771355 [14 13  2  1  4  4  4  2  2  0  2] 13\n",
      "8.59987235362448 [14 13  1  4  3  3  2  4  1  0  6] 13\n",
      "9.277126772750893 [14 13  3  5  5  3  2  4  1  1 12] 13\n",
      "11.889618835008442 [12 11  2  3  5  3  3  3  1  0  2] 12\n",
      "14.254339466128961 [ 9  9  1  3  3  4  4  2  1  0 22] 9\n",
      "14.551461091666905 [8 9 1 5 4 5 5 5 2 3 0] 10\n",
      "11.315548618682811 [14 14  3  4  4  3  2  3  1  0  4] 14\n",
      "14.054484915432027 [13 13  2  5  4  2  2  2  1  0  2] 13\n",
      "14.77067165971157 [ 9 10  2  5  4  2  1  3  1  0  2] 9\n",
      "8.802275948412708 [8 9 2 3 3 3 5 1 1 0 4] 10\n",
      "12.473877768440481 [12 13  2  5  4  3  2  3  1  0  4] 13\n"
     ]
    }
   ],
   "source": [
    "# model buiding, training and testing\n",
    "\n",
    "best_acc=0\n",
    "for i in range(20):\n",
    "    x_train, x_test, y_train, y_test = sklearn.model_selection.train_test_split(X, y, test_size = 0.1)\n",
    "    linear = linear_model.LinearRegression()\n",
    "    linear.fit(x_train, y_train)\n",
    "    acc = linear.score(x_test, y_test)\n",
    "    print(\"Accuracy: \" + str(acc))\n",
    "    \n",
    "    if acc> best_acc:\n",
    "        best_acc= acc\n",
    "        with open(\"studentgrades.pickle\", \"wb\") as f:\n",
    "            pickle.dump(linear, f)\n",
    "        \n",
    "pickle_in = open(\"studentgrades.pickle\", \"rb\")\n",
    "linear = pickle.load(pickle_in)\n",
    "\n",
    "print(\"-------------------------\")\n",
    "print('Coefficient: \\n', linear.coef_)\n",
    "print('Intercept: \\n', linear.intercept_)\n",
    "print(\"-------------------------\")\n",
    "\n",
    "predicted= linear.predict(x_test)\n",
    "for x in range(len(predictions)):\n",
    "    print((predictions[x]), x_test[x],(y_test[x]))"
   ]
  },
  {
   "cell_type": "code",
   "execution_count": 27,
   "metadata": {
    "scrolled": true
   },
   "outputs": [
    {
     "name": "stderr",
     "output_type": "stream",
     "text": [
      "No handles with labels found to put in legend.\n"
     ]
    },
    {
     "data": {
      "image/png": "[encoded data removed]",
      "text/plain": [
       "<Figure size 432x288 with 1 Axes>"
      ]
     },
     "metadata": {},
     "output_type": "display_data"
    }
   ],
   "source": [
    "#Drawing and plotting model \n",
    "style.use(\"ggplot\")\n",
    "plot = \"G2\"\n",
    "plt.scatter(data[plot], data[\"G3\"])\n",
    "plt.legend(loc=4)\n",
    "plt.xlabel(plot)\n",
    "plt.ylabel(\"Final Grade\")\n",
    "plt.show()"
   ]
  },
  {
   "cell_type": "code",
   "execution_count": null,
   "metadata": {},
   "outputs": [],
   "source": []
  }
 ],
 "metadata": {
  "kernelspec": {
   "display_name": "Python 3",
   "language": "python",
   "name": "python3"
  },
  "language_info": {
   "codemirror_mode": {
    "name": "ipython",
    "version": 3
   },
   "file_extension": ".py",
   "mimetype": "text/x-python",
   "name": "python",
   "nbconvert_exporter": "python",
   "pygments_lexer": "ipython3",
   "version": "3.6.9"
  }
 },
 "nbformat": 4,
 "nbformat_minor": 2
}
